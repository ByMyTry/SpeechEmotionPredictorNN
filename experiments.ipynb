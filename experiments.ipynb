{
 "cells": [
  {
   "cell_type": "code",
   "execution_count": 32,
   "metadata": {},
   "outputs": [
    {
     "name": "stdout",
     "output_type": "stream",
     "text": [
      "Collecting sklearn\n",
      "  Downloading https://files.pythonhosted.org/packages/1e/7a/dbb3be0ce9bd5c8b7e3d87328e79063f8b263b2b1bfa4774cb1147bfcd3f/sklearn-0.0.tar.gz\n",
      "Collecting scikit-learn (from sklearn)\n",
      "  Downloading https://files.pythonhosted.org/packages/85/04/49633f490f726da6e454fddc8e938bbb5bfed2001681118d3814c219b723/scikit_learn-0.21.2-cp36-cp36m-manylinux1_x86_64.whl (6.7MB)\n",
      "\u001b[K    100% |████████████████████████████████| 6.7MB 60kB/s eta 0:00:01    40% |█████████████                   | 2.7MB 6.5MB/s eta 0:00:01\n",
      "\u001b[?25hRequirement already satisfied: numpy>=1.11.0 in ./p3_env/lib/python3.6/site-packages (from scikit-learn->sklearn)\n",
      "Collecting joblib>=0.11 (from scikit-learn->sklearn)\n",
      "  Downloading https://files.pythonhosted.org/packages/cd/c1/50a758e8247561e58cb87305b1e90b171b8c767b15b12a1734001f41d356/joblib-0.13.2-py2.py3-none-any.whl (278kB)\n",
      "\u001b[K    100% |████████████████████████████████| 286kB 56kB/s eta 0:00:01\n",
      "\u001b[?25hRequirement already satisfied: scipy>=0.17.0 in ./p3_env/lib/python3.6/site-packages (from scikit-learn->sklearn)\n",
      "Building wheels for collected packages: sklearn\n",
      "  Running setup.py bdist_wheel for sklearn ... \u001b[?25ldone\n",
      "\u001b[?25h  Stored in directory: /home/ataleckij/.cache/pip/wheels/76/03/bb/589d421d27431bcd2c6da284d5f2286c8e3b2ea3cf1594c074\n",
      "Successfully built sklearn\n",
      "Installing collected packages: joblib, scikit-learn, sklearn\n",
      "Successfully installed joblib-0.13.2 scikit-learn-0.21.2 sklearn-0.0\n"
     ]
    }
   ],
   "source": [
    "!p3_env/bin/pip install sklearn"
   ]
  },
  {
   "cell_type": "code",
   "execution_count": 1,
   "metadata": {},
   "outputs": [],
   "source": [
    "import scipy.io.wavfile as wav"
   ]
  },
  {
   "cell_type": "code",
   "execution_count": 2,
   "metadata": {},
   "outputs": [],
   "source": [
    "rate, signal = wav.read('./data/OAF_dab_happy.wav')"
   ]
  },
  {
   "cell_type": "code",
   "execution_count": 21,
   "metadata": {},
   "outputs": [],
   "source": [
    "wav.read??"
   ]
  },
  {
   "cell_type": "code",
   "execution_count": 24,
   "metadata": {},
   "outputs": [
    {
     "data": {
      "text/plain": [
       "(24414, (46152,), array([ 0,  0, -1, ...,  3,  3, -2], dtype=int16))"
      ]
     },
     "execution_count": 24,
     "metadata": {},
     "output_type": "execute_result"
    }
   ],
   "source": [
    "rate, signal.shape, signal "
   ]
  },
  {
   "cell_type": "code",
   "execution_count": 125,
   "metadata": {},
   "outputs": [
    {
     "data": {
      "text/plain": [
       "[<matplotlib.lines.Line2D at 0x7f0dee06cef0>]"
      ]
     },
     "execution_count": 125,
     "metadata": {},
     "output_type": "execute_result"
    },
    {
     "data": {
      "image/png": "[encoded data removed]",
      "text/plain": [
       "<Figure size 432x288 with 1 Axes>"
      ]
     },
     "metadata": {
      "needs_background": "light"
     },
     "output_type": "display_data"
    }
   ],
   "source": [
    "import numpy as np\n",
    "import matplotlib.pyplot as plt\n",
    "\n",
    "x = np.arange(signal.shape[0])\n",
    "plt.plot(x, signal)"
   ]
  },
  {
   "cell_type": "code",
   "execution_count": 30,
   "metadata": {},
   "outputs": [
    {
     "data": {
      "text/plain": [
       "(2.172430230542555, 648.5939964666352)"
      ]
     },
     "execution_count": 30,
     "metadata": {},
     "output_type": "execute_result"
    }
   ],
   "source": [
    "signal_mean, signal_std = signal.mean(), signal.std()\n",
    "signal_mean, signal_std"
   ]
  },
  {
   "cell_type": "code",
   "execution_count": 36,
   "metadata": {},
   "outputs": [
    {
     "data": {
      "text/plain": [
       "(-2.155399181106215e-18, 1.0)"
      ]
     },
     "execution_count": 36,
     "metadata": {},
     "output_type": "execute_result"
    }
   ],
   "source": [
    "standart_signal = (signal.copy() - signal_mean) / signal_std\n",
    "standart_signal.mean(), standart_signal.std()"
   ]
  },
  {
   "cell_type": "code",
   "execution_count": 45,
   "metadata": {},
   "outputs": [
    {
     "data": {
      "text/plain": [
       "array([[-0.00334945],\n",
       "       [-0.00334945],\n",
       "       [-0.00489124],\n",
       "       ...,\n",
       "       [ 0.00127594],\n",
       "       [ 0.00127594],\n",
       "       [-0.00643304]])"
      ]
     },
     "execution_count": 45,
     "metadata": {},
     "output_type": "execute_result"
    }
   ],
   "source": [
    "standart_signal_reshaped = standart_signal.copy().reshape((standart_signal.shape[0], 1))\n",
    "standart_signal_reshaped"
   ]
  },
  {
   "cell_type": "code",
   "execution_count": 73,
   "metadata": {},
   "outputs": [],
   "source": [
    "import os\n",
    "from keras.preprocessing.sequence import pad_sequences\n",
    "\n",
    "def _get_end_of(file_name):\n",
    "    return file_name.split('_')[-1].split('.')[0]\n",
    "\n",
    "def read_data():\n",
    "    labels_to_classes = {'happy': 0, 'sad': 1, 'angry': 2}\n",
    "    signals, classes = [], []\n",
    "    maxlen = -np.inf\n",
    "    for file_name in os.listdir('data/'):\n",
    "        label = _get_end_of(file_name)\n",
    "        if label in labels_to_classes.keys():\n",
    "            try:\n",
    "                rate, signal = wav.read('data/' + file_name)\n",
    "            except:\n",
    "                print(file_name)\n",
    "            maxlen = max(maxlen, len(signal))\n",
    "            class_ = labels_to_classes[label]\n",
    "            signals.append(signal), classes.append(class_)\n",
    "    return pad_sequences(signals, maxlen=maxlen), np.array(classes), maxlen"
   ]
  },
  {
   "cell_type": "code",
   "execution_count": 76,
   "metadata": {},
   "outputs": [
    {
     "name": "stdout",
     "output_type": "stream",
     "text": [
      "OAF_merge_angry.wav\n",
      "YAF_team_sad.wav\n"
     ]
    },
    {
     "data": {
      "text/plain": [
       "(600, 65679)"
      ]
     },
     "execution_count": 76,
     "metadata": {},
     "output_type": "execute_result"
    }
   ],
   "source": [
    "signals, classes, maxlen = read_data()\n",
    "signals.shape"
   ]
  },
  {
   "cell_type": "code",
   "execution_count": 81,
   "metadata": {},
   "outputs": [
    {
     "data": {
      "text/plain": [
       "array([0, 1, 2])"
      ]
     },
     "execution_count": 81,
     "metadata": {},
     "output_type": "execute_result"
    }
   ],
   "source": [
    "np.unique(classes)"
   ]
  },
  {
   "cell_type": "code",
   "execution_count": 82,
   "metadata": {},
   "outputs": [
    {
     "data": {
      "text/plain": [
       "(600, 65679, 1)"
      ]
     },
     "execution_count": 82,
     "metadata": {},
     "output_type": "execute_result"
    }
   ],
   "source": [
    "signals_reshaped = signals.copy().reshape((signals.shape[0], signals.shape[1], 1))\n",
    "signals_reshaped.shape"
   ]
  },
  {
   "cell_type": "code",
   "execution_count": 102,
   "metadata": {},
   "outputs": [],
   "source": [
    "from sklearn.model_selection import train_test_split\n",
    "\n",
    "(signals_reshaped_train, signals_reshaped_test,\n",
    " classes_train, classes_test) = train_test_split(signals_reshaped, classes, test_size=0.33, \n",
    "                                                 random_state=42, stratify=classes)\n",
    "\n",
    "# (signals_reshaped_work, signals_reshaped_val,\n",
    "#  classes_word, classes_val) = train_test_split(signals_reshaped_train, classes_train, test_size=0.2, \n",
    "#                                                random_state=42, stratify=classes_train)"
   ]
  },
  {
   "cell_type": "code",
   "execution_count": 109,
   "metadata": {},
   "outputs": [
    {
     "name": "stdout",
     "output_type": "stream",
     "text": [
      "_________________________________________________________________\n",
      "Layer (type)                 Output Shape              Param #   \n",
      "=================================================================\n",
      "average_pooling1d_13 (Averag (None, None, 1)           0         \n",
      "_________________________________________________________________\n",
      "gru_46 (GRU)                 (None, None, 64)          12672     \n",
      "_________________________________________________________________\n",
      "gru_47 (GRU)                 (None, None, 32)          9312      \n",
      "_________________________________________________________________\n",
      "gru_48 (GRU)                 (None, 32)                6240      \n",
      "_________________________________________________________________\n",
      "dense_32 (Dense)             (None, 256)               8448      \n",
      "_________________________________________________________________\n",
      "dense_33 (Dense)             (None, 3)                 771       \n",
      "=================================================================\n",
      "Total params: 37,443\n",
      "Trainable params: 37,443\n",
      "Non-trainable params: 0\n",
      "_________________________________________________________________\n"
     ]
    }
   ],
   "source": [
    "from keras.models import Sequential\n",
    "from keras.layers import LSTM, Bidirectional, GRU, Flatten, Dense, AveragePooling1D, Dropout\n",
    "\n",
    "model = Sequential()\n",
    "model.add(AveragePooling1D(128, input_shape = (None, 1)))\n",
    "# model.add(GRU(1))\n",
    "# model.add(GRU(32, return_sequences=True, input_shape = (None, 1)))\n",
    "model.add(GRU(64, return_sequences=True))\n",
    "model.add(GRU(32, return_sequences=True))\n",
    "model.add(GRU(32))\n",
    "# model.add(Dense(1024, activation='relu'))\n",
    "model.add(Dense(256, activation='relu'))\n",
    "# model.add(Dropout(0.3))\n",
    "# model.add(Dense(128, activation='relu'))\n",
    "# model.add(Dropout(0.2))\n",
    "model.add(Dense(3, activation='softmax'))\n",
    "model.summary()"
   ]
  },
  {
   "cell_type": "code",
   "execution_count": 110,
   "metadata": {},
   "outputs": [],
   "source": [
    "model.compile(optimizer='rmsprop', loss='sparse_categorical_crossentropy', metrics=['acc'])"
   ]
  },
  {
   "cell_type": "code",
   "execution_count": 111,
   "metadata": {},
   "outputs": [
    {
     "name": "stdout",
     "output_type": "stream",
     "text": [
      "Train on 321 samples, validate on 81 samples\n",
      "Epoch 1/10\n",
      "321/321 [==============================] - 211s 658ms/step - loss: 1.0895 - acc: 0.4112 - val_loss: 1.0166 - val_acc: 0.4198\n",
      "Epoch 2/10\n",
      "321/321 [==============================] - 203s 634ms/step - loss: 0.9545 - acc: 0.5327 - val_loss: 0.7932 - val_acc: 0.6173\n",
      "Epoch 3/10\n",
      "321/321 [==============================] - 204s 635ms/step - loss: 0.7463 - acc: 0.6449 - val_loss: 0.7356 - val_acc: 0.6049\n",
      "Epoch 4/10\n",
      "321/321 [==============================] - 204s 635ms/step - loss: 0.6270 - acc: 0.7103 - val_loss: 0.5051 - val_acc: 0.7531\n",
      "Epoch 5/10\n",
      "321/321 [==============================] - 203s 634ms/step - loss: 0.5101 - acc: 0.7788 - val_loss: 0.3683 - val_acc: 0.8519\n",
      "Epoch 6/10\n",
      "321/321 [==============================] - 204s 635ms/step - loss: 0.3704 - acc: 0.8505 - val_loss: 0.2479 - val_acc: 0.8889\n",
      "Epoch 7/10\n",
      "321/321 [==============================] - 203s 634ms/step - loss: 0.3852 - acc: 0.8598 - val_loss: 0.4820 - val_acc: 0.8395\n",
      "Epoch 8/10\n",
      "321/321 [==============================] - 204s 635ms/step - loss: 0.3348 - acc: 0.9065 - val_loss: 0.1928 - val_acc: 0.9383\n",
      "Epoch 9/10\n",
      "321/321 [==============================] - 204s 634ms/step - loss: 0.2890 - acc: 0.9190 - val_loss: 0.1837 - val_acc: 0.9630\n",
      "Epoch 10/10\n",
      "321/321 [==============================] - 204s 634ms/step - loss: 0.3431 - acc: 0.9190 - val_loss: 0.5818 - val_acc: 0.8642\n"
     ]
    }
   ],
   "source": [
    "history = model.fit(signals_reshaped_train, classes_train, \n",
    "                    epochs=10, batch_size=1, validation_split=0.2)\n",
    "#                     validation_data=(signals_reshaped_val, classes_val)) "
   ]
  },
  {
   "cell_type": "code",
   "execution_count": 116,
   "metadata": {},
   "outputs": [
    {
     "data": {
      "text/plain": [
       "0.9090909090909091"
      ]
     },
     "execution_count": 116,
     "metadata": {},
     "output_type": "execute_result"
    }
   ],
   "source": [
    "# sum((model.predict(signals_reshaped_test) >= 0.5).T[0].astype(int) == classes_test) / len(classes_test)\n",
    "(model.predict_classes(signals_reshaped_test) == classes_test).sum() / len(classes_test)"
   ]
  },
  {
   "cell_type": "code",
   "execution_count": 126,
   "metadata": {},
   "outputs": [
    {
     "data": {
      "text/plain": [
       "'90.91%'"
      ]
     },
     "execution_count": 126,
     "metadata": {},
     "output_type": "execute_result"
    }
   ],
   "source": [
    "'90.91%'"
   ]
  },
  {
   "cell_type": "code",
   "execution_count": 124,
   "metadata": {},
   "outputs": [
    {
     "name": "stdout",
     "output_type": "stream",
     "text": [
      "10 10\n"
     ]
    },
    {
     "data": {
      "image/png": "[encoded data removed]",
      "text/plain": [
       "<Figure size 432x288 with 1 Axes>"
      ]
     },
     "metadata": {
      "needs_background": "light"
     },
     "output_type": "display_data"
    }
   ],
   "source": [
    "acc = history.history['acc']\n",
    "val_acc = history.history['val_acc']\n",
    "epochs = np.arange(1, len(acc) + 1)\n",
    "base_line = np.array((len(acc))*[0.67])\n",
    "print(len(base_line), len(epochs))\n",
    "\n",
    "plt.figure()\n",
    "\n",
    "plt.plot(epochs, acc, 'bo', label='Training accuracy')\n",
    "plt.plot(epochs, val_acc, 'b', label='Validation accuracy')\n",
    "plt.plot(epochs, base_line, 'r', label='Baseline(Diploma)')\n",
    "\n",
    "plt.legend()\n",
    "\n",
    "plt.show()"
   ]
  }
 ],
 "metadata": {
  "kernelspec": {
   "display_name": "Python 3",
   "language": "python",
   "name": "python3"
  },
  "language_info": {
   "codemirror_mode": {
    "name": "ipython",
    "version": 3
   },
   "file_extension": ".py",
   "mimetype": "text/x-python",
   "name": "python",
   "nbconvert_exporter": "python",
   "pygments_lexer": "ipython3",
   "version": "3.6.8"
  }
 },
 "nbformat": 4,
 "nbformat_minor": 2
}
