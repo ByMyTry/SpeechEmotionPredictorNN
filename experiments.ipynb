{
  "nbformat": 4,
  "nbformat_minor": 0,
  "metadata": {
    "kernelspec": {
      "name": "python3",
      "display_name": "Python 3"
    },
    "language_info": {
      "codemirror_mode": {
        "name": "ipython",
        "version": 3
      },
      "file_extension": ".py",
      "mimetype": "text/x-python",
      "name": "python",
      "nbconvert_exporter": "python",
      "pygments_lexer": "ipython3",
      "version": "3.6.8"
    },
    "colab": {
      "name": "experiments.ipynb",
      "provenance": []
    },
    "accelerator": "GPU"
  },
  "cells": [
    {
      "cell_type": "code",
      "metadata": {
        "id": "Sk0IgcYbUMAh",
        "colab_type": "code",
        "outputId": "839d36a7-3112-41a1-d3e4-1e6ca15936e6",
        "colab": {
          "base_uri": "https://localhost:8080/",
          "height": 34
        }
      },
      "source": [
        "from google.colab import drive\n",
        "drive.mount('/content/drive', force_remount=True)"
      ],
      "execution_count": 0,
      "outputs": [
        {
          "output_type": "stream",
          "text": [
            "Mounted at /content/drive\n"
          ],
          "name": "stdout"
        }
      ]
    },
    {
      "cell_type": "code",
      "metadata": {
        "id": "tp_gZJQqhRu7",
        "colab_type": "code",
        "outputId": "f5c89153-2a53-4d75-d05c-d5d46a080aa7",
        "colab": {
          "base_uri": "https://localhost:8080/",
          "height": 80
        }
      },
      "source": [
        "import os\n",
        "import numpy as np\n",
        "import scipy.io.wavfile as wav\n",
        "import matplotlib.pyplot as plt\n",
        "from tqdm import tqdm\n",
        "from keras.preprocessing.sequence import pad_sequences"
      ],
      "execution_count": 0,
      "outputs": [
        {
          "output_type": "stream",
          "text": [
            "Using TensorFlow backend.\n"
          ],
          "name": "stderr"
        },
        {
          "output_type": "display_data",
          "data": {
            "text/html": [
              "<p style=\"color: red;\">\n",
              "The default version of TensorFlow in Colab will soon switch to TensorFlow 2.x.<br>\n",
              "We recommend you <a href=\"https://www.tensorflow.org/guide/migrate\" target=\"_blank\">upgrade</a> now \n",
              "or ensure your notebook will continue to use TensorFlow 1.x via the <code>%tensorflow_version 1.x</code> magic:\n",
              "<a href=\"https://colab.research.google.com/notebooks/tensorflow_version.ipynb\" target=\"_blank\">more info</a>.</p>\n"
            ],
            "text/plain": [
              "<IPython.core.display.HTML object>"
            ]
          },
          "metadata": {
            "tags": []
          }
        }
      ]
    },
    {
      "cell_type": "markdown",
      "metadata": {
        "id": "nc7EYaWJUxvs",
        "colab_type": "text"
      },
      "source": [
        "### Проверим корректность чтения wav фалов"
      ]
    },
    {
      "cell_type": "code",
      "metadata": {
        "id": "WbMuL9SPUC4u",
        "colab_type": "code",
        "colab": {}
      },
      "source": [
        "rate, signal = wav.read('./data/OAF_dab_happy.wav')"
      ],
      "execution_count": 0,
      "outputs": []
    },
    {
      "cell_type": "code",
      "metadata": {
        "id": "X7b8nWcnUC4y",
        "colab_type": "code",
        "colab": {}
      },
      "source": [
        "wav.read??"
      ],
      "execution_count": 0,
      "outputs": []
    },
    {
      "cell_type": "code",
      "metadata": {
        "id": "0WMWF4RcUC43",
        "colab_type": "code",
        "outputId": "f27f05a4-7355-4e10-a26f-d0419b15db0b",
        "colab": {}
      },
      "source": [
        "rate, signal.shape, signal "
      ],
      "execution_count": 0,
      "outputs": [
        {
          "output_type": "execute_result",
          "data": {
            "text/plain": [
              "(24414, (46152,), array([ 0,  0, -1, ...,  3,  3, -2], dtype=int16))"
            ]
          },
          "metadata": {
            "tags": []
          },
          "execution_count": 24
        }
      ]
    },
    {
      "cell_type": "code",
      "metadata": {
        "id": "dYvVwcx9UC46",
        "colab_type": "code",
        "outputId": "ee3a7024-6521-47a6-fe9d-6df1ea9a62e7",
        "colab": {}
      },
      "source": [
        "x = np.arange(signal.shape[0])\n",
        "plt.plot(x, signal)"
      ],
      "execution_count": 0,
      "outputs": [
        {
          "output_type": "execute_result",
          "data": {
            "text/plain": [
              "[<matplotlib.lines.Line2D at 0x7f0dee06cef0>]"
            ]
          },
          "metadata": {
            "tags": []
          },
          "execution_count": 125
        },
        {
          "output_type": "display_data",
          "data": {
            "image/png": "[encoded data removed]",
            "text/plain": [
              "<Figure size 432x288 with 1 Axes>"
            ]
          },
          "metadata": {
            "tags": [],
            "needs_background": "light"
          }
        }
      ]
    },
    {
      "cell_type": "code",
      "metadata": {
        "id": "ueHlxwavUC4-",
        "colab_type": "code",
        "outputId": "73e5e912-443e-4628-b53d-226741f094f6",
        "colab": {}
      },
      "source": [
        "signal_mean, signal_std = signal.mean(), signal.std()\n",
        "signal_mean, signal_std"
      ],
      "execution_count": 0,
      "outputs": [
        {
          "output_type": "execute_result",
          "data": {
            "text/plain": [
              "(2.172430230542555, 648.5939964666352)"
            ]
          },
          "metadata": {
            "tags": []
          },
          "execution_count": 30
        }
      ]
    },
    {
      "cell_type": "code",
      "metadata": {
        "id": "Bl1fm-f9UC5D",
        "colab_type": "code",
        "outputId": "960be86a-1dff-41a4-d46f-c4c7b6fa4698",
        "colab": {}
      },
      "source": [
        "standart_signal = (signal.copy() - signal_mean) / signal_std\n",
        "standart_signal.mean(), standart_signal.std()"
      ],
      "execution_count": 0,
      "outputs": [
        {
          "output_type": "execute_result",
          "data": {
            "text/plain": [
              "(-2.155399181106215e-18, 1.0)"
            ]
          },
          "metadata": {
            "tags": []
          },
          "execution_count": 36
        }
      ]
    },
    {
      "cell_type": "code",
      "metadata": {
        "id": "PZFuse4bUC5J",
        "colab_type": "code",
        "outputId": "a741c8f9-d116-447c-bff8-741c885dd977",
        "colab": {}
      },
      "source": [
        "standart_signal_reshaped = standart_signal.copy().reshape((standart_signal.shape[0], 1))\n",
        "standart_signal_reshaped"
      ],
      "execution_count": 0,
      "outputs": [
        {
          "output_type": "execute_result",
          "data": {
            "text/plain": [
              "array([[-0.00334945],\n",
              "       [-0.00334945],\n",
              "       [-0.00489124],\n",
              "       ...,\n",
              "       [ 0.00127594],\n",
              "       [ 0.00127594],\n",
              "       [-0.00643304]])"
            ]
          },
          "metadata": {
            "tags": []
          },
          "execution_count": 45
        }
      ]
    },
    {
      "cell_type": "markdown",
      "metadata": {
        "id": "00UlIxROU_o0",
        "colab_type": "text"
      },
      "source": [
        "### Загружаем и подгатавливаем данные"
      ]
    },
    {
      "cell_type": "code",
      "metadata": {
        "id": "fIBrQOzNUC5O",
        "colab_type": "code",
        "colab": {}
      },
      "source": [
        "# DATASET_PATH = 'data/'\n",
        "DATASET_PATH = '/content/drive/My Drive/data/'\n",
        "\n",
        "def _get_end_of(file_name):\n",
        "    return file_name.split('_')[-1].split('.')[0]\n",
        "\n",
        "def read_data():\n",
        "    labels_to_classes = {'happy': 0, 'sad': 1, 'angry': 2, 'neutral': 3, \n",
        "                         'disgust': 4, 'fear': 5, 'ps': 6}\n",
        "    signals, classes = [], []\n",
        "    maxlen = -np.inf\n",
        "    for file_name in tqdm(os.listdir(DATASET_PATH)):\n",
        "        label = _get_end_of(file_name)\n",
        "        if label in labels_to_classes.keys():\n",
        "            try:\n",
        "                rate, signal = wav.read(DATASET_PATH + file_name)\n",
        "            except:\n",
        "                print(file_name)\n",
        "            maxlen = max(maxlen, len(signal))\n",
        "            class_ = labels_to_classes[label]\n",
        "            signals.append(signal), classes.append(class_)\n",
        "        else:\n",
        "            print('Unknown label: ', label)\n",
        "    return pad_sequences(signals, maxlen=maxlen), np.array(classes), maxlen"
      ],
      "execution_count": 0,
      "outputs": []
    },
    {
      "cell_type": "code",
      "metadata": {
        "id": "hyNYiihoUC5T",
        "colab_type": "code",
        "outputId": "c906fd50-c718-4c28-9253-e26a7a488dd1",
        "colab": {
          "base_uri": "https://localhost:8080/",
          "height": 581
        }
      },
      "source": [
        "signals, classes, maxlen = read_data()\n",
        "signals.shape"
      ],
      "execution_count": 4,
      "outputs": [
        {
          "output_type": "stream",
          "text": [
            " 14%|█▍        | 390/2822 [01:36<16:08,  2.51it/s]"
          ],
          "name": "stderr"
        },
        {
          "output_type": "stream",
          "text": [
            "YAF_germ_angry.wav\n"
          ],
          "name": "stdout"
        },
        {
          "output_type": "stream",
          "text": [
            " 18%|█▊        | 517/2822 [02:28<13:48,  2.78it/s]"
          ],
          "name": "stderr"
        },
        {
          "output_type": "stream",
          "text": [
            "Unknown label:  fear (1)\n"
          ],
          "name": "stdout"
        },
        {
          "output_type": "stream",
          "text": [
            " 34%|███▍      | 962/2822 [05:33<12:12,  2.54it/s]"
          ],
          "name": "stderr"
        },
        {
          "output_type": "stream",
          "text": [
            "Unknown label:  ps (1)\n"
          ],
          "name": "stdout"
        },
        {
          "output_type": "stream",
          "text": [
            " 34%|███▍      | 969/2822 [05:36<11:26,  2.70it/s]"
          ],
          "name": "stderr"
        },
        {
          "output_type": "stream",
          "text": [
            "Unknown label:  fear (1)\n"
          ],
          "name": "stdout"
        },
        {
          "output_type": "stream",
          "text": [
            " 41%|████      | 1148/2822 [06:47<10:12,  2.73it/s]/usr/local/lib/python3.6/dist-packages/ipykernel_launcher.py:15: WavFileWarning: Reached EOF prematurely; finished at 57344 bytes, expected 101730 bytes from header.\n",
            "  from ipykernel import kernelapp as app\n",
            " 52%|█████▏    | 1458/2822 [08:55<08:32,  2.66it/s]"
          ],
          "name": "stderr"
        },
        {
          "output_type": "stream",
          "text": [
            "Unknown label:  happy (1)\n"
          ],
          "name": "stdout"
        },
        {
          "output_type": "stream",
          "text": [
            "\r 52%|█████▏    | 1460/2822 [08:56<07:21,  3.09it/s]"
          ],
          "name": "stderr"
        },
        {
          "output_type": "stream",
          "text": [
            "Unknown label:  neutral (1)\n",
            "Unknown label:  sad (1)\n",
            "Unknown label:  ps (1)\n",
            "Unknown label:  neutral (1)\n",
            "Unknown label:  happy (1)\n",
            "Unknown label:  disgust (1)\n"
          ],
          "name": "stdout"
        },
        {
          "output_type": "stream",
          "text": [
            "\r 52%|█████▏    | 1467/2822 [08:56<05:31,  4.09it/s]"
          ],
          "name": "stderr"
        },
        {
          "output_type": "stream",
          "text": [
            "Unknown label:  neutral (1)\n",
            "Unknown label:  happy (1)\n"
          ],
          "name": "stdout"
        },
        {
          "output_type": "stream",
          "text": [
            " 53%|█████▎    | 1483/2822 [09:02<08:29,  2.63it/s]"
          ],
          "name": "stderr"
        },
        {
          "output_type": "stream",
          "text": [
            "Unknown label:  ps (1)\n"
          ],
          "name": "stdout"
        },
        {
          "output_type": "stream",
          "text": [
            " 57%|█████▋    | 1596/2822 [09:49<08:12,  2.49it/s]/usr/local/lib/python3.6/dist-packages/ipykernel_launcher.py:15: WavFileWarning: Reached EOF prematurely; finished at 57344 bytes, expected 104306 bytes from header.\n",
            "  from ipykernel import kernelapp as app\n",
            " 62%|██████▏   | 1753/2822 [10:51<06:59,  2.55it/s]/usr/local/lib/python3.6/dist-packages/ipykernel_launcher.py:15: WavFileWarning: Reached EOF prematurely; finished at 40960 bytes, expected 98706 bytes from header.\n",
            "  from ipykernel import kernelapp as app\n",
            " 81%|████████  | 2290/2822 [14:35<03:32,  2.50it/s]"
          ],
          "name": "stderr"
        },
        {
          "output_type": "stream",
          "text": [
            "YAF_neat_fear.wav\n"
          ],
          "name": "stdout"
        },
        {
          "output_type": "stream",
          "text": [
            " 91%|█████████ | 2559/2822 [16:26<01:56,  2.25it/s]"
          ],
          "name": "stderr"
        },
        {
          "output_type": "stream",
          "text": [
            "Unknown label:  disgust (1)\n",
            "Unknown label:  fear (1)\n",
            "Unknown label:  neutral (1)\n"
          ],
          "name": "stdout"
        },
        {
          "output_type": "stream",
          "text": [
            "\r 91%|█████████ | 2563/2822 [16:26<01:27,  2.95it/s]"
          ],
          "name": "stderr"
        },
        {
          "output_type": "stream",
          "text": [
            "Unknown label:  happy (1)\n",
            "Unknown label:  disgust (1)\n",
            "Unknown label:  fear (1)\n",
            "Unknown label:  happy (1)\n",
            "Unknown label:  angry (1)\n",
            "Unknown label:  sad (1)\n"
          ],
          "name": "stdout"
        },
        {
          "output_type": "stream",
          "text": [
            "100%|██████████| 2822/2822 [18:12<00:00,  2.31it/s]\n"
          ],
          "name": "stderr"
        },
        {
          "output_type": "execute_result",
          "data": {
            "text/plain": [
              "(2800, 145172)"
            ]
          },
          "metadata": {
            "tags": []
          },
          "execution_count": 4
        }
      ]
    },
    {
      "cell_type": "code",
      "metadata": {
        "id": "YxQyH8xlUC5a",
        "colab_type": "code",
        "outputId": "3e735203-061f-480d-b488-78ed19190c83",
        "colab": {
          "base_uri": "https://localhost:8080/",
          "height": 34
        }
      },
      "source": [
        "np.unique(classes)"
      ],
      "execution_count": 5,
      "outputs": [
        {
          "output_type": "execute_result",
          "data": {
            "text/plain": [
              "array([0, 1, 2, 3, 4, 5, 6])"
            ]
          },
          "metadata": {
            "tags": []
          },
          "execution_count": 5
        }
      ]
    },
    {
      "cell_type": "code",
      "metadata": {
        "id": "MPqBaAWKUC5i",
        "colab_type": "code",
        "outputId": "394a656f-0e47-4c59-f502-6711cb47f087",
        "colab": {
          "base_uri": "https://localhost:8080/",
          "height": 34
        }
      },
      "source": [
        "signals_reshaped = signals.copy().reshape((signals.shape[0], signals.shape[1], 1))\n",
        "signals_reshaped.shape"
      ],
      "execution_count": 6,
      "outputs": [
        {
          "output_type": "execute_result",
          "data": {
            "text/plain": [
              "(2800, 145172, 1)"
            ]
          },
          "metadata": {
            "tags": []
          },
          "execution_count": 6
        }
      ]
    },
    {
      "cell_type": "code",
      "metadata": {
        "id": "K_niHpmYnhHG",
        "colab_type": "code",
        "colab": {}
      },
      "source": [
        "np.save('signals_reshaped.npy', signals_reshaped)\n",
        "np.save('classes.npy', classes)"
      ],
      "execution_count": 0,
      "outputs": []
    },
    {
      "cell_type": "code",
      "metadata": {
        "id": "thEjp1EMnwm6",
        "colab_type": "code",
        "colab": {
          "base_uri": "https://localhost:8080/",
          "height": 34
        },
        "outputId": "28cb7657-ac9c-49cd-cae2-5ab35c71cf38"
      },
      "source": [
        "signals_reshaped_60k = signals_reshaped[:, -60_000:]\n",
        "signals_reshaped_60k.shape"
      ],
      "execution_count": 85,
      "outputs": [
        {
          "output_type": "execute_result",
          "data": {
            "text/plain": [
              "(2800, 60000, 1)"
            ]
          },
          "metadata": {
            "tags": []
          },
          "execution_count": 85
        }
      ]
    },
    {
      "cell_type": "code",
      "metadata": {
        "id": "Csx9rUsuuHii",
        "colab_type": "code",
        "colab": {
          "base_uri": "https://localhost:8080/",
          "height": 289
        },
        "outputId": "a5f11249-b8c0-4552-d2fd-272a28107d87"
      },
      "source": [
        "i=0\n",
        "print(classes[i])\n",
        "print(signals[i])\n",
        "print(signals_reshaped[i])\n",
        "print(signals_reshaped_60k[i])"
      ],
      "execution_count": 86,
      "outputs": [
        {
          "output_type": "stream",
          "text": [
            "5\n",
            "[ 0  0  0 ... 19 17  6]\n",
            "[[ 0]\n",
            " [ 0]\n",
            " [ 0]\n",
            " ...\n",
            " [19]\n",
            " [17]\n",
            " [ 6]]\n",
            "[[ 0]\n",
            " [ 0]\n",
            " [ 0]\n",
            " ...\n",
            " [19]\n",
            " [17]\n",
            " [ 6]]\n"
          ],
          "name": "stdout"
        }
      ]
    },
    {
      "cell_type": "code",
      "metadata": {
        "id": "gYQszKEJUC5p",
        "colab_type": "code",
        "colab": {}
      },
      "source": [
        "from sklearn.model_selection import train_test_split\n",
        "\n",
        "(signals_reshaped_train, signals_reshaped_test,\n",
        " classes_train, classes_test) = train_test_split(signals_reshaped_60k, classes, test_size=0.2, \n",
        "                                                 random_state=42, stratify=classes)\n",
        "\n",
        "# (signals_reshaped_work, signals_reshaped_val,\n",
        "#  classes_word, classes_val) = train_test_split(signals_reshaped_train, classes_train, test_size=0.2, \n",
        "#                                                random_state=42, stratify=classes_train)"
      ],
      "execution_count": 0,
      "outputs": []
    },
    {
      "cell_type": "markdown",
      "metadata": {
        "id": "rCz4ehE-VQCb",
        "colab_type": "text"
      },
      "source": [
        "### Обучаем и тестируем сеть"
      ]
    },
    {
      "cell_type": "code",
      "metadata": {
        "id": "FchOZf8qUC5v",
        "colab_type": "code",
        "outputId": "a6cf0c45-3af0-4487-d397-59b80ab02779",
        "colab": {
          "base_uri": "https://localhost:8080/",
          "height": 459
        }
      },
      "source": [
        "from keras.models import Sequential\n",
        "from keras.layers import LSTM, Bidirectional, GRU, Flatten, Dense, AveragePooling1D, Dropout, MaxPooling1D\n",
        "\n",
        "model = Sequential()\n",
        "model.add(AveragePooling1D(128, input_shape = (None, 1), ))\n",
        "# model.add(GRU(1))\n",
        "# model.add(GRU(32, return_sequences=True, input_shape = (None, 1)))\n",
        "model.add(GRU(128, return_sequences=True))\n",
        "model.add(GRU(128, return_sequences=True))\n",
        "model.add(GRU(64))\n",
        "model.add(Dropout(0.3))\n",
        "model.add(Dense(512, activation='relu'))\n",
        "model.add(Dropout(0.3))\n",
        "model.add(Dense(128, activation='relu'))\n",
        "# model.add(Dense(128, activation='relu'))\n",
        "# model.add(Dropout(0.2))\n",
        "model.add(Dense(7, activation='softmax'))\n",
        "model.summary()"
      ],
      "execution_count": 94,
      "outputs": [
        {
          "output_type": "stream",
          "text": [
            "Model: \"sequential_25\"\n",
            "_________________________________________________________________\n",
            "Layer (type)                 Output Shape              Param #   \n",
            "=================================================================\n",
            "average_pooling1d_21 (Averag (None, None, 1)           0         \n",
            "_________________________________________________________________\n",
            "gru_59 (GRU)                 (None, None, 128)         49920     \n",
            "_________________________________________________________________\n",
            "gru_60 (GRU)                 (None, None, 128)         98688     \n",
            "_________________________________________________________________\n",
            "gru_61 (GRU)                 (None, 64)                37056     \n",
            "_________________________________________________________________\n",
            "dropout_21 (Dropout)         (None, 64)                0         \n",
            "_________________________________________________________________\n",
            "dense_46 (Dense)             (None, 512)               33280     \n",
            "_________________________________________________________________\n",
            "dropout_22 (Dropout)         (None, 512)               0         \n",
            "_________________________________________________________________\n",
            "dense_47 (Dense)             (None, 128)               65664     \n",
            "_________________________________________________________________\n",
            "dense_48 (Dense)             (None, 7)                 903       \n",
            "=================================================================\n",
            "Total params: 285,511\n",
            "Trainable params: 285,511\n",
            "Non-trainable params: 0\n",
            "_________________________________________________________________\n"
          ],
          "name": "stdout"
        }
      ]
    },
    {
      "cell_type": "code",
      "metadata": {
        "id": "Eo__AtUyUC5z",
        "colab_type": "code",
        "colab": {}
      },
      "source": [
        "model.compile(optimizer='adam', loss='sparse_categorical_crossentropy', metrics=['acc'])"
      ],
      "execution_count": 0,
      "outputs": []
    },
    {
      "cell_type": "code",
      "metadata": {
        "id": "hk3T8-vfUC55",
        "colab_type": "code",
        "outputId": "181fb6fa-ed3f-4fe7-f8cf-e1611f33a886",
        "colab": {
          "base_uri": "https://localhost:8080/",
          "height": 1000
        }
      },
      "source": [
        "# query = np.in1d(classes_train, (0, 1, 2))\n",
        "\n",
        "history = model.fit(signals_reshaped_train, classes_train, \n",
        "                    epochs=30, batch_size=64, validation_split=0.05)\n",
        "#                     validation_data=(signals_reshaped_val, classes_val)) "
      ],
      "execution_count": 96,
      "outputs": [
        {
          "output_type": "stream",
          "text": [
            "Train on 2128 samples, validate on 112 samples\n",
            "Epoch 1/30\n",
            "2128/2128 [==============================] - 53s 25ms/step - loss: 1.9550 - acc: 0.1668 - val_loss: 1.9059 - val_acc: 0.1339\n",
            "Epoch 2/30\n",
            "2128/2128 [==============================] - 45s 21ms/step - loss: 1.9185 - acc: 0.1997 - val_loss: 1.8402 - val_acc: 0.2232\n",
            "Epoch 3/30\n",
            "2128/2128 [==============================] - 45s 21ms/step - loss: 1.8356 - acc: 0.2707 - val_loss: 1.7742 - val_acc: 0.2500\n",
            "Epoch 4/30\n",
            "2128/2128 [==============================] - 45s 21ms/step - loss: 1.7037 - acc: 0.3078 - val_loss: 1.5000 - val_acc: 0.4196\n",
            "Epoch 5/30\n",
            "2128/2128 [==============================] - 46s 22ms/step - loss: 1.5185 - acc: 0.4018 - val_loss: 1.4487 - val_acc: 0.5179\n",
            "Epoch 6/30\n",
            "2128/2128 [==============================] - 45s 21ms/step - loss: 1.3727 - acc: 0.4643 - val_loss: 1.2373 - val_acc: 0.5268\n",
            "Epoch 7/30\n",
            "2128/2128 [==============================] - 45s 21ms/step - loss: 1.2264 - acc: 0.5221 - val_loss: 1.4443 - val_acc: 0.4732\n",
            "Epoch 8/30\n",
            "2128/2128 [==============================] - 45s 21ms/step - loss: 1.2185 - acc: 0.5301 - val_loss: 1.0246 - val_acc: 0.6250\n",
            "Epoch 9/30\n",
            "2128/2128 [==============================] - 45s 21ms/step - loss: 0.9849 - acc: 0.6165 - val_loss: 0.8106 - val_acc: 0.6607\n",
            "Epoch 10/30\n",
            "2128/2128 [==============================] - 45s 21ms/step - loss: 0.8681 - acc: 0.6490 - val_loss: 0.6623 - val_acc: 0.7500\n",
            "Epoch 11/30\n",
            "2128/2128 [==============================] - 45s 21ms/step - loss: 0.6983 - acc: 0.7218 - val_loss: 0.5549 - val_acc: 0.7857\n",
            "Epoch 12/30\n",
            "2128/2128 [==============================] - 46s 22ms/step - loss: 0.6144 - acc: 0.7655 - val_loss: 0.3543 - val_acc: 0.8839\n",
            "Epoch 13/30\n",
            "2128/2128 [==============================] - 45s 21ms/step - loss: 0.6384 - acc: 0.7669 - val_loss: 0.3988 - val_acc: 0.8839\n",
            "Epoch 14/30\n",
            "2128/2128 [==============================] - 45s 21ms/step - loss: 0.4323 - acc: 0.8379 - val_loss: 0.2665 - val_acc: 0.9018\n",
            "Epoch 15/30\n",
            "2128/2128 [==============================] - 45s 21ms/step - loss: 0.3879 - acc: 0.8553 - val_loss: 0.3348 - val_acc: 0.8214\n",
            "Epoch 16/30\n",
            "2128/2128 [==============================] - 45s 21ms/step - loss: 0.3462 - acc: 0.8769 - val_loss: 0.2872 - val_acc: 0.9107\n",
            "Epoch 17/30\n",
            "2128/2128 [==============================] - 45s 21ms/step - loss: 0.2758 - acc: 0.9027 - val_loss: 0.1558 - val_acc: 0.9643\n",
            "Epoch 18/30\n",
            "2128/2128 [==============================] - 45s 21ms/step - loss: 0.2061 - acc: 0.9258 - val_loss: 0.2205 - val_acc: 0.9018\n",
            "Epoch 19/30\n",
            "2128/2128 [==============================] - 46s 22ms/step - loss: 0.2387 - acc: 0.9234 - val_loss: 0.3086 - val_acc: 0.9107\n",
            "Epoch 20/30\n",
            "2128/2128 [==============================] - 45s 21ms/step - loss: 0.2019 - acc: 0.9323 - val_loss: 0.2775 - val_acc: 0.9018\n",
            "Epoch 21/30\n",
            "2128/2128 [==============================] - 45s 21ms/step - loss: 0.1544 - acc: 0.9464 - val_loss: 0.3378 - val_acc: 0.9107\n",
            "Epoch 22/30\n",
            "2128/2128 [==============================] - 45s 21ms/step - loss: 0.1398 - acc: 0.9568 - val_loss: 0.1521 - val_acc: 0.9554\n",
            "Epoch 23/30\n",
            "2128/2128 [==============================] - 45s 21ms/step - loss: 0.1368 - acc: 0.9525 - val_loss: 0.3396 - val_acc: 0.9196\n",
            "Epoch 24/30\n",
            "2128/2128 [==============================] - 45s 21ms/step - loss: 0.1321 - acc: 0.9591 - val_loss: 0.2250 - val_acc: 0.9286\n",
            "Epoch 25/30\n",
            "2128/2128 [==============================] - 45s 21ms/step - loss: 0.1036 - acc: 0.9648 - val_loss: 0.2067 - val_acc: 0.9375\n",
            "Epoch 26/30\n",
            "2128/2128 [==============================] - 46s 21ms/step - loss: 0.1506 - acc: 0.9544 - val_loss: 0.2718 - val_acc: 0.9196\n",
            "Epoch 27/30\n",
            "2128/2128 [==============================] - 45s 21ms/step - loss: 0.0874 - acc: 0.9709 - val_loss: 0.1451 - val_acc: 0.9464\n",
            "Epoch 28/30\n",
            "2128/2128 [==============================] - 45s 21ms/step - loss: 0.0995 - acc: 0.9680 - val_loss: 0.1385 - val_acc: 0.9643\n",
            "Epoch 29/30\n",
            "2128/2128 [==============================] - 45s 21ms/step - loss: 0.0547 - acc: 0.9803 - val_loss: 0.1923 - val_acc: 0.9464\n",
            "Epoch 30/30\n",
            "2128/2128 [==============================] - 45s 21ms/step - loss: 0.1017 - acc: 0.9709 - val_loss: 0.1638 - val_acc: 0.9286\n"
          ],
          "name": "stdout"
        }
      ]
    },
    {
      "cell_type": "code",
      "metadata": {
        "id": "3BFivJWqUC5-",
        "colab_type": "code",
        "outputId": "a2d9f729-7949-418d-82d1-6caf0cd0f1b8",
        "colab": {
          "base_uri": "https://localhost:8080/",
          "height": 34
        }
      },
      "source": [
        "# sum((model.predict(signals_reshaped_test) >= 0.5).T[0].astype(int) == classes_test) / len(classes_test)\n",
        "(model.predict_classes(signals_reshaped_test) == classes_test).sum() / len(classes_test)"
      ],
      "execution_count": 97,
      "outputs": [
        {
          "output_type": "execute_result",
          "data": {
            "text/plain": [
              "0.8857142857142857"
            ]
          },
          "metadata": {
            "tags": []
          },
          "execution_count": 97
        }
      ]
    },
    {
      "cell_type": "code",
      "metadata": {
        "id": "tLovW3sQUC6C",
        "colab_type": "code",
        "outputId": "eb10c814-5939-4ffc-de6f-112477c10727",
        "colab": {}
      },
      "source": [
        "'90.91%'"
      ],
      "execution_count": 0,
      "outputs": [
        {
          "output_type": "execute_result",
          "data": {
            "text/plain": [
              "'90.91%'"
            ]
          },
          "metadata": {
            "tags": []
          },
          "execution_count": 126
        }
      ]
    },
    {
      "cell_type": "code",
      "metadata": {
        "id": "C9bLSlsBUC6H",
        "colab_type": "code",
        "outputId": "a451a636-bf1a-4040-aca9-97cd9c792839",
        "colab": {
          "base_uri": "https://localhost:8080/",
          "height": 282
        }
      },
      "source": [
        "acc = history.history['acc']\n",
        "val_acc = history.history['val_acc']\n",
        "epochs = np.arange(1, len(acc) + 1)\n",
        "base_line = np.array((len(acc))*[0.67])\n",
        "print(len(base_line), len(epochs))\n",
        "\n",
        "plt.figure()\n",
        "\n",
        "plt.plot(epochs, acc, 'b', label='Training accuracy')\n",
        "plt.plot(epochs, val_acc, 'bo', label='Validation accuracy')\n",
        "plt.plot(epochs, base_line, 'r', label='Baseline(Diploma)')\n",
        "\n",
        "plt.legend()\n",
        "plt.show()"
      ],
      "execution_count": 98,
      "outputs": [
        {
          "output_type": "stream",
          "text": [
            "30 30\n"
          ],
          "name": "stdout"
        },
        {
          "output_type": "display_data",
          "data": {
            "image/png": "[encoded data removed]",
            "text/plain": [
              "<Figure size 432x288 with 1 Axes>"
            ]
          },
          "metadata": {
            "tags": []
          }
        }
      ]
    }
  ]
}